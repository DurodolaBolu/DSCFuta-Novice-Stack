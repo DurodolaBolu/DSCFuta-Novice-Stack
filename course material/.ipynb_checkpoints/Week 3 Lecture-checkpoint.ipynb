{
 "cells": [
  {
   "cell_type": "markdown",
   "metadata": {},
   "source": [
    "# LIST\n",
    "The links to the article used can be found below\n",
    "\n",
    "[link1](https://www.geeksforgeeks.org/python-list/), \n",
    "[link2](https://www.programiz.com/python-programming/list), \n",
    "[link3](https://www.w3schools.com/python/python_lists.asp#:~:text=%2C%20%22cherry%22%5D-,List,with%20different%20qualities%20and%20usage.)\n",
    "\n",
    "The links to the video can be found here also\n",
    "\n",
    "[video1](https://www.youtube.com/watch?v=ohCDWZgNIU0),  [Video2](https://www.youtube.com/watch?v=LUoKlnK5wcc) \n",
    "\n",
    "\n",
    "## What we will cover in this aspect\n",
    "   ### 1. List overview and definition\n",
    "   ###  2. Creating a list\n",
    "   ### 3. Accessing element of a list\n",
    "   ###  ---. Selecting elements from a list (slicing)\n",
    "   ###  4. Exploring the methods in list dir(list)\n",
    "   ###  ---. Adding element to a list\n",
    "   ###  ---. Removing element from a list\n",
    "   ###  5.Exercises"
   ]
  },
  {
   "cell_type": "markdown",
   "metadata": {},
   "source": [
    "#### 1. List overview and definition"
   ]
  },
  {
   "cell_type": "code",
   "execution_count": null,
   "metadata": {},
   "outputs": [],
   "source": [
    "'''Firstly, what is a list?: \n",
    "\n",
    "* List is one of the 4 collection data types in python, others include set, dictionary, and tuple.\n",
    "List is denoted by a square bracket ([])'''\n",
    "mylist1 = [3,4,2]\n",
    "\n",
    "'''\n",
    "* Lists are used to store multiple items in a single variable.'''\n",
    "\n",
    "'''* A single list may contain DataTypes like Integers, Strings, as well as Objects. \n",
    " Lists are mutable, and hence, they can be altered even after their creation.'''\n",
    "usernames = ['john','bright','drogba','henry'] #list holding  string values\n",
    "user_ages = [34,56,12,45,3] # list holding integer values\n",
    "bool_list = [True, False, False, True, True] #List holding boolean values\n",
    "\n",
    "'''list can even hold another list'''\n",
    "mylist2 = [True, 2, 'dsc', 4.23, [3,'folu']]\n",
    "\n",
    "'''Properties of a list?: \n",
    "1. list are ordered: it means the elements have a definite order that will not change, and any new element added will\n",
    "be to the end of the list. Though there are some list methods that allows us to add element to a specific index location,\n",
    "we will get to that in a bit\n",
    "\n",
    "2. changeability: lists elements can be altered unlike tuple whose one of its property is immutability\n",
    "\n",
    "3. Allows duplicates: list, since they are indexed allows element to be duplicated unlike a set''' "
   ]
  },
  {
   "cell_type": "markdown",
   "metadata": {},
   "source": [
    "#### Creating a list"
   ]
  },
  {
   "cell_type": "code",
   "execution_count": null,
   "metadata": {},
   "outputs": [],
   "source": [
    "'''List can simply be created by placing all elements in a square bracket, seperated by a comma (,)'''\n",
    "fruits = ['apple', 'pawpaw', 'Orange', 'lemon']\n",
    "even_num = [2,4,6,22,90]\n",
    "\n",
    "'''List data types--- list can hold '''\n",
    "\n",
    "\n",
    "\n",
    "user1 = [23, 4.50, ['CSC202','MTS210'], 'john', 'smith']\n",
    "\n",
    "# determining the length of a list\n",
    "len(even_num)\n"
   ]
  },
  {
   "cell_type": "markdown",
   "metadata": {},
   "source": [
    "####  Accessing elements of a list (indexing)"
   ]
  },
  {
   "cell_type": "code",
   "execution_count": 1,
   "metadata": {},
   "outputs": [
    {
     "ename": "IndexError",
     "evalue": "list index out of range",
     "output_type": "error",
     "traceback": [
      "\u001b[1;31m---------------------------------------------------------------------------\u001b[0m",
      "\u001b[1;31mIndexError\u001b[0m                                Traceback (most recent call last)",
      "\u001b[1;32m<ipython-input-1-a5dcd37796ce>\u001b[0m in \u001b[0;36m<module>\u001b[1;34m()\u001b[0m\n\u001b[0;32m      7\u001b[0m \u001b[1;31m# what will this output?\u001b[0m\u001b[1;33m\u001b[0m\u001b[1;33m\u001b[0m\u001b[0m\n\u001b[0;32m      8\u001b[0m \u001b[0mour_list\u001b[0m\u001b[1;33m[\u001b[0m\u001b[1;36m3\u001b[0m\u001b[1;33m]\u001b[0m\u001b[1;33m\u001b[0m\u001b[0m\n\u001b[1;32m----> 9\u001b[1;33m \u001b[0mour_list\u001b[0m\u001b[1;33m[\u001b[0m\u001b[1;36m5\u001b[0m\u001b[1;33m]\u001b[0m\u001b[1;33m\u001b[0m\u001b[0m\n\u001b[0m\u001b[0;32m     10\u001b[0m \u001b[1;33m\u001b[0m\u001b[0m\n\u001b[0;32m     11\u001b[0m \u001b[0muser1\u001b[0m\u001b[1;33m[\u001b[0m\u001b[1;36m2\u001b[0m\u001b[1;33m]\u001b[0m\u001b[1;33m[\u001b[0m\u001b[1;36m0\u001b[0m\u001b[1;33m]\u001b[0m\u001b[1;33m\u001b[0m\u001b[0m\n",
      "\u001b[1;31mIndexError\u001b[0m: list index out of range"
     ]
    }
   ],
   "source": [
    "'''We can use the index operator [] to access an item in a list. In Python, \n",
    "indices start at 0. So, a list having 5 elements will have an index from 0 to 4.'''\n",
    "\n",
    "our_list = [2,3,4,1,6]\n",
    "user1 = [23, 4.50, ['CSC202','MTS210'], 'john', 'smith']\n",
    "\n",
    "# what will this output?\n",
    "our_list[3] \n",
    "our_list[5]\n",
    "\n",
    "user1[2][0]\n",
    "\n",
    "# Elements can also be accessed from the end of a list using negative indexing\n",
    "our_list[-2]\n",
    "\n",
    "\n",
    "\n",
    "# Accessing a range of items in the list by using the slicing operator : colon\n",
    "alphabet = ['a','b','c','d','e','f','g','h','i','j','k','l','m']\n",
    "alphabet[2:7] # select elements from index 2 to 7 - 1\n",
    "alphabet[:7] # selects elements from the beginning of the list to the index 7 position\n",
    "alphabet[:-7] # selects element from from the beginning to 6th\n"
   ]
  },
  {
   "cell_type": "markdown",
   "metadata": {},
   "source": [
    "#### Changing, adding or removing element from a list"
   ]
  },
  {
   "cell_type": "code",
   "execution_count": 2,
   "metadata": {},
   "outputs": [],
   "source": [
    "'''Because of list mutability, we can alter the elements of that lsit unlike tuple which us immutable'''\n",
    "fruit_list = ['mango','apple','cashew','grape','orange','lemon','pawpaw','cherry','watermelon','coconut']\n",
    "\n",
    "# changing an item, we can use assignment operantor = to cnahne an item or range of items.\n",
    "# For example, change apple in fruit list to pineapple\n",
    "\n",
    "fruit_list[1] = 'Pineapple'\n",
    "\n",
    "# i want to change the fruit between 2 and 5 to another set of fruits\n",
    "\n",
    "fruit_list[2:5] = ['lime','guava','banana']"
   ]
  },
  {
   "cell_type": "code",
   "execution_count": 13,
   "metadata": {},
   "outputs": [
    {
     "name": "stdout",
     "output_type": "stream",
     "text": [
      "['PHY101']\n",
      "[4, 2, 4, 8, 12, 90, 32, 12, 78, 68, 32, 12, 990, 56, 76, 26]\n",
      "[15, 45, 90, 45, 65, 990, 25]\n"
     ]
    }
   ],
   "source": [
    "# Adding elements to a list\n",
    "# Exploring python list methods\n",
    "# How to get the methods available in python list\n",
    "dir(list)\n",
    "\n",
    "# How do we add element to a list\n",
    "# using append and extend method, append can add only a single element to the end of a list, while several elements can be \n",
    "# added at once using extend method\n",
    "\n",
    "course_list = []\n",
    "course_list.append('PHY101')\n",
    "print(course_list)\n",
    "\n",
    "# let us advance a little bit, we have a list of random numbers, and we were told to extract the even numbers in it then print it out\n",
    "random_num = [3,4,1,33,2,4,8,12,123,15,45,23,89,23,90,99,32,12,45,65,33,43,23,78,3,68,31,32,12,9,990,25,43,56,76,87,91,26]\n",
    "even_num = []\n",
    "\n",
    "for num in random_num:\n",
    "    if num % 2 == 0:\n",
    "        even_num.append(num)\n",
    "print(even_num)\n",
    "\n",
    "# Exercise: get all the multiples of 5 in that random_num list\n",
    "multiple_of_five = []\n",
    "for i in random_num:\n",
    "    if i % 5 == 0:\n",
    "        multiple_of_five.append(i)\n",
    "print(multiple_of_five)\n",
    "\n",
    "# Assignment: giving a list of e-mails, i want you to extract for me the gmails, yahoo mails and hotmails\n",
    "email_list['jannie@gmail.com','onehuman@ggmail.com','toludgreat@yahoo.com','bosspeterlight@gmail.com','Peterlight@yahoo.com',\n",
    "          'dscfuta@hotmail.com','Abdulroheem@yahoo.com','kaydee@hotmail.com','auntysucess@gmail.com','success@yahoo.com',\n",
    "          'habeeb@hotmail.com','aishat@hotmail.com','covid19@hotmail.com','donaldtrump@yahoo.com','ayomide@hotmail.com',\n",
    "          'rehoboth@hotmail.com','wahalabelikebicycle@hotmail.com','augustus@yahoo.com','janniebaby@hotmail.com']\n",
    "\n",
    "# hint?"
   ]
  },
  {
   "cell_type": "code",
   "execution_count": 10,
   "metadata": {},
   "outputs": [
    {
     "data": {
      "text/plain": [
       "[3,\n",
       " 4,\n",
       " 1,\n",
       " 33,\n",
       " 2,\n",
       " 4,\n",
       " 8,\n",
       " 12,\n",
       " 123,\n",
       " 15,\n",
       " 45,\n",
       " 23,\n",
       " 89,\n",
       " 23,\n",
       " 90,\n",
       " 99,\n",
       " 32,\n",
       " 12,\n",
       " 45,\n",
       " 65,\n",
       " 33,\n",
       " 43,\n",
       " 23,\n",
       " 78,\n",
       " 3,\n",
       " 68,\n",
       " 31,\n",
       " 32,\n",
       " 12,\n",
       " 9,\n",
       " 990,\n",
       " 25,\n",
       " 43,\n",
       " 56,\n",
       " 76,\n",
       " 87,\n",
       " 91,\n",
       " 26]"
      ]
     },
     "execution_count": 10,
     "metadata": {},
     "output_type": "execute_result"
    }
   ],
   "source": [
    "random_num"
   ]
  }
 ],
 "metadata": {
  "kernelspec": {
   "display_name": "Python 3",
   "language": "python",
   "name": "python3"
  },
  "language_info": {
   "codemirror_mode": {
    "name": "ipython",
    "version": 3
   },
   "file_extension": ".py",
   "mimetype": "text/x-python",
   "name": "python",
   "nbconvert_exporter": "python",
   "pygments_lexer": "ipython3",
   "version": "3.6.5"
  }
 },
 "nbformat": 4,
 "nbformat_minor": 2
}
