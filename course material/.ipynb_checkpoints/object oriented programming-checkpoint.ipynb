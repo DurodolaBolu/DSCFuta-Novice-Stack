{
 "cells": [
  {
   "cell_type": "markdown",
   "metadata": {},
   "source": [
    "Links to the material used\n",
    "[link1](https://www.w3schools.com/python/python_classes.asp),   [link2](https://www.programiz.com/python-programming/class)\n",
    "\n",
    "[link3](https://realpython.com/python3-object-oriented-programming/),  [link4](https://www.geeksforgeeks.org/python-classes-and-objects/)"
   ]
  },
  {
   "cell_type": "markdown",
   "metadata": {},
   "source": [
    "## Object Oriented Programming(OOP)"
   ]
  },
  {
   "cell_type": "markdown",
   "metadata": {},
   "source": [
    "### What is object oriented programming in python?: \n",
    "OOP is a programming paradigm(ways of classifying programming languages based on their features) that provides a means of structuring programming so that properties and behaviours are bundled into individual object\n",
    "\n",
    "For instance, an object could represent a person with properties like a name, age, and address and behaviors such as walking, talking, breathing, and running. Or it could represent an email with properties like a recipient list, subject, and body and behaviors like adding attachments and sending.\n",
    "\n",
    "object-oriented programming is an approach for modeling concrete, real-world things, like cars, as well as relations between things, like companies and employees, students and teachers, and so on. OOP models real-world entities as software objects that have some data associated with them and can perform certain functions.\n",
    "\n",
    "Another programming paradigm which we are used to is the *procedural programming* which provides steps in form on blocks of codes and functions which run sequentially in order to complete a task.\n",
    "\n",
    "*The two terminologies we shall be using is class and object:*\n",
    "*Class* creates a user-defined data structure, which holds its own data members and member functions, which can be accessed and used by creating an instance of that class. A class is like a blueprint for an *object*\n",
    "\n",
    "you might be wondering why we need to define a class or create objects:\n",
    "take for instance:\n",
    "let’s say you wanted to track the number of dogs which may have different attributes like breed, age. If a list is used, the first element could be the dog’s breed while the second element could represent its age. Let’s suppose there are 100 different dogs, then how would you know which element is supposed to be which? What if you wanted to add other properties to these dogs? This lacks organization and it’s the exact need for classes.\n",
    "\n",
    "class simply models the real world object, just like a blueprint while an object is created using that class.\n",
    "As a matter of fact, every python data type is an object of a class with it's attribute and properties, all we have been doing all this while is just instantiatng a class,\n",
    "\n",
    "let us move on"
   ]
  },
  {
   "cell_type": "markdown",
   "metadata": {},
   "source": [
    "## Creating a class\n",
    "Let us take the example to further help us understand the need to create class better---\n",
    "we were instructed to track certain employees details and i need to store their age, name, year they started work etc.\n",
    "what i will do as someone whose is only used to procedural programming is probably create list for each users"
   ]
  },
  {
   "cell_type": "code",
   "execution_count": null,
   "metadata": {},
   "outputs": [],
   "source": [
    "# for example\n",
    "empl1 = ['john',22,2012]\n",
    "empl2 = ['janet',31,1980]\n",
    ".\n",
    ".\n",
    ".empl100 = ['philip',25,1999]\n",
    "\n",
    "# now you see that we are already running into problem while just creating about 100 employees, now imagine we want to create \n",
    "#about 1000 employees, our program gets messy and disorganized.\n",
    "# class help us write a well organized code.\n",
    "\n",
    "# that is just by the way, let us continue with creating a class"
   ]
  },
  {
   "cell_type": "code",
   "execution_count": 6,
   "metadata": {},
   "outputs": [
    {
     "data": {
      "text/plain": [
       "7"
      ]
     },
     "execution_count": 6,
     "metadata": {},
     "output_type": "execute_result"
    }
   ],
   "source": [
    "# let us create a simple class: to create a class we use the keyword class\n",
    "class MyClass:\n",
    "    x = 7\n",
    "    \n",
    "# now that we have created a simple class, let us create an object from it\n",
    "object1 = MyClass()\n",
    "object1.x"
   ]
  },
  {
   "cell_type": "markdown",
   "metadata": {},
   "source": [
    "*Some points on Python class:*\n",
    "\n",
    "Classes are created by keyword class. (just as we did above, class MyClass (we just successfully defined a class named MyClass))\n",
    "\n",
    "Attributes are the variables that belong to class.\n",
    "(the only attribute we have there is x which is 7)\n",
    "\n",
    "Attributes are always public and can be accessed using dot (.) operator. Eg.: Myclass.Myattribute\n",
    "(we accessed the attribute of our class when we created our object by doing object1.x)"
   ]
  },
  {
   "cell_type": "code",
   "execution_count": 4,
   "metadata": {},
   "outputs": [
    {
     "data": {
      "text/plain": [
       "list"
      ]
     },
     "execution_count": 4,
     "metadata": {},
     "output_type": "execute_result"
    }
   ],
   "source": [
    "a = [2,3,4]\n",
    "type(a)"
   ]
  }
 ],
 "metadata": {
  "kernelspec": {
   "display_name": "Python 3",
   "language": "python",
   "name": "python3"
  },
  "language_info": {
   "codemirror_mode": {
    "name": "ipython",
    "version": 3
   },
   "file_extension": ".py",
   "mimetype": "text/x-python",
   "name": "python",
   "nbconvert_exporter": "python",
   "pygments_lexer": "ipython3",
   "version": "3.8.5"
  }
 },
 "nbformat": 4,
 "nbformat_minor": 4
}
