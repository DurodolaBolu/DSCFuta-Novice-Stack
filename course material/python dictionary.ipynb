{
 "cells": [
  {
   "cell_type": "code",
   "execution_count": null,
   "metadata": {},
   "outputs": [],
   "source": [
    "'''Python provides another composite data type called a dictionary, which is similar \n",
    "to a list in that it is a collection of objects'''\n",
    "\n",
    "'''You’ll cover the basic characteristics of Python dictionaries and learn \n",
    "how to access and manage dictionary data. Once you have finished \n",
    "this tutorial, you should have a good sense of when a dictionary is \n",
    "the appropriate data type to use, and how to do so.'''\n",
    "\n",
    "'''Dictionaries and lists share the following characteristics:\n",
    "\n",
    "Both are mutable.\n",
    "Both are dynamic. They can grow and shrink as needed.\n",
    "Both can be nested. A list can contain another list. A dictionary can contain another dictionary. \n",
    "A dictionary can also contain a list, and vice versa'''\n",
    "\n",
    "'''Dictionaries differ from lists primarily in how elements are accessed:\n",
    "\n",
    "List elements are accessed by their position in the list, via indexing.\n",
    "Dictionary elements are accessed via keys.'''\n",
    "\n"
   ]
  },
  {
   "cell_type": "markdown",
   "metadata": {},
   "source": [
    "### Defining a Dictionary"
   ]
  },
  {
   "cell_type": "code",
   "execution_count": null,
   "metadata": {},
   "outputs": [],
   "source": [
    "'''A dictionary consists of a collection of key-value pairs. \n",
    "Each key-value pair maps the key to its associated value'''\n",
    "\n",
    "'''You can define a dictionary by enclosing a comma-separated list of key-value pairs in curly braces ({}). \n",
    "A colon (:) separates each key from its associated value'''\n",
    "\n",
    "'''for example'''\n",
    "\n",
    "my_dict = {\n",
    "    <key>: <value>,\n",
    "    <key>: <value>,\n",
    "      .\n",
    "      .\n",
    "      .\n",
    "    <key>: <value>\n",
    "}\n",
    "\n",
    "'''The following defines a dictionary that maps a state in nigeria to its corresponding capital'''\n",
    "\n",
    "state_cap = {'Osun' : 'Osogbo',\n",
    "             'Kaduna': 'Kaduna',\n",
    "             'Kogi': 'Lokoja',\n",
    "             'Lagos': 'Ikeja',\n",
    "             'Ekiti':'Ado'\n",
    "    \n",
    "}\n",
    "\n",
    "'''we can also have a dictionary that map a number in words to its digit'''\n",
    "\n",
    "num = {'one' : 1,\n",
    "       'two': 2,\n",
    "       'three': 3}\n",
    "\n",
    "'''You can also construct a dictionary with the built-in dict() function. \n",
    "The argument to dict() should be a sequence of key-value pairs. \n",
    "A list of tuples works well for this'''\n",
    "\n",
    "d = dict([\n",
    "    (<key>, <value>),\n",
    "    (<key>, <value),\n",
    "      .\n",
    "      .\n",
    "      .\n",
    "    (<key>, <value>)\n",
    "])\n",
    "\n",
    "'''state and capitals can also be defined this way'''\n",
    "\n",
    "state_cap = dict([('Osun','Osogbo'),('Kaduna','Kaduna'), ('Kogi','Lokoja'), ('Lagos', 'Ikeja'), ('Ekiti','Ado')])\n",
    "print(state_cap)\n",
    "\n",
    "'''If the key values are simple strings, they can be specified as keyword arguments. \n",
    "So here is yet another way to define our state and capital'''\n",
    "\n",
    "state_cap = dict(Osun = 'Osogbo',\n",
    "                 Kaduna = 'Kaduna',\n",
    "                 Kogi = 'Kogi',\n",
    "                 Lagos = 'Lagos',\n",
    "                 Ekiti = 'Ado')\n",
    "\n",
    "'''Once you’ve defined a dictionary, you can display its contents, the same as you can do for a list. \n",
    "All three of the definitions shown above appear as follows when displayed'''\n",
    "\n",
    "'''By simply calling the variable name if you are using interactive mode or printing the variabe name'''\n",
    "\n",
    "state_cap\n",
    "print(state_cap)\n",
    "\n",
    "'''The entries in the dictionary display in the order they were defined. \n",
    "But that is irrelevant when it comes to retrieving them. \n",
    "Dictionary elements are not accessed by numerical index'''\n",
    "\n",
    "'''for example'''\n",
    "state_cap[1]"
   ]
  },
  {
   "cell_type": "markdown",
   "metadata": {},
   "source": [
    "### Accessing Dictionary Values"
   ]
  },
  {
   "cell_type": "code",
   "execution_count": null,
   "metadata": {},
   "outputs": [],
   "source": [
    "'''Of course, dictionary elements must be accessible somehow. \n",
    "If you don’t get them by index, then how do you get them?'''\n",
    "\n",
    "'''A value is retrieved from a dictionary by specifying its corresponding key in square brackets ([])'''\n",
    "\n",
    "state_cap['Osun']\n",
    "\n",
    "'''If you refer to a key that is not in the dictionary, Python raises an exception'''\n",
    "state_cap['Benue']\n",
    "\n",
    "'''Adding an entry to an existing dictionary is simply a matter of assigning a new key and value'''\n",
    "state_cap['Benue'] = 'Markurdi'\n",
    "print(state_cap)\n",
    "\n",
    "'''If you want to update an entry, you can just assign a new value to an existing key'''\n",
    "\n",
    "state_cap['Ekiti'] = 'Ado Ekiti'\n",
    "print(state_cap)\n",
    "\n",
    "'''To delete an entry, use the del statement, specifying the key to delete\n",
    "let us delete the entry we just modified'''\n",
    "\n",
    "del state_cap['Ekiti']\n",
    "print(state_cap)"
   ]
  },
  {
   "cell_type": "markdown",
   "metadata": {},
   "source": [
    "### Dictionary Keys vs. List Indices"
   ]
  },
  {
   "cell_type": "code",
   "execution_count": null,
   "metadata": {},
   "outputs": [],
   "source": [
    "'''You may have noticed that the interpreter raises the same exception, KeyError, when a dictionary is accessed \n",
    "with either an undefined key or by a numeric index'''\n",
    "\n",
    "state_cap['Sokoto']\n",
    "state_cap[1]\n",
    "\n",
    "'''You will see later in this class that an object of any immutable type can be used as a dictionary key. \n",
    "Accordingly, there is no reason you can’t use integers:'''\n",
    "\n",
    "d = {0: 'a', 1: 'b', 2: 'c', 3: 'd'}\n",
    "\n",
    "d[0]\n",
    "d[3]\n",
    "\n",
    "'''In the expressions state_cap[1], d[0], and d[3], the numbers in square \n",
    "brackets appear as though they might be indices. But they have nothing to do with the order of the items in the dictionary. Python is interpreting them as dictionary keys. If you define this same dictionary \n",
    "in reverse order, you still get the same values using the same keys:'''\n",
    "\n",
    "d = {3: 'd', 2: 'c', 1: 'b', 0: 'a'}\n",
    "d[0]\n",
    "d[3]\n",
    "\n",
    "'''The syntax may look similar, but you can never treat a dictionary like a list'''\n",
    "d[-1]\n",
    "\n",
    "d[0:2]\n",
    "\n",
    "d[::-1]\n",
    "\n",
    "d.append('f')\n",
    "\n",
    "'''Although access to items in a dictionary does not depend on order, \n",
    "Python does guarantee that the order of items in a dictionary is preserved. \n",
    "When displayed, items will appear in the order they were defined, \n",
    "and iteration through the keys will occur in that order as well. \n",
    "Items added to a dictionary are added at the end. If items are \n",
    "deleted, the order of the remaining items is retained'''\n",
    "\n"
   ]
  },
  {
   "cell_type": "markdown",
   "metadata": {},
   "source": [
    "### Building a Dictionary Incrementally"
   ]
  },
  {
   "cell_type": "code",
   "execution_count": 3,
   "metadata": {},
   "outputs": [
    {
     "data": {
      "text/plain": [
       "{'fname': 'joel',\n",
       " 'lname': 'king',\n",
       " 'matric num': 'CGP/22/1232',\n",
       " 'Cgpa': 4.57,\n",
       " 'Courses': ['CSC202', 'MTS210', 'CHE202', 'GNS302', 'MTS224'],\n",
       " 'on_probation': False}"
      ]
     },
     "execution_count": 3,
     "metadata": {},
     "output_type": "execute_result"
    }
   ],
   "source": [
    "'''Defining a dictionary using curly braces and a list of key-value pairs, as shown above, \n",
    "is fine if you know all the keys and values in advance. \n",
    "But what if you want to build a dictionary on the fly?'''\n",
    "\n",
    "'''You can start by creating an empty dictionary, which is specified by empty curly braces. \n",
    "Then you can add new keys and values one at a time:'''\n",
    "\n",
    "student1 = {}\n",
    "student1['fname'] = 'joel'\n",
    "student1['lname'] = 'king'\n",
    "student1['matric num'] = 'CGP/22/1232'\n",
    "student1['Cgpa'] = 4.57\n",
    "student1['Courses'] = ['CSC202','MTS210','CHE202','GNS302','MTS224']\n",
    "student1['on_probation'] = False\n",
    "\n",
    "student1"
   ]
  },
  {
   "cell_type": "code",
   "execution_count": 9,
   "metadata": {},
   "outputs": [
    {
     "data": {
      "text/plain": [
       "'ccc'"
      ]
     },
     "execution_count": 9,
     "metadata": {},
     "output_type": "execute_result"
    }
   ],
   "source": [
    "'''Once the dictionary is created in this way, its values are accessed the same way as any other dictionary'''\n",
    "\n",
    "student1['fname']\n",
    "student1['Courses']\n",
    "student1['on_probation']\n",
    "\n",
    "'''Retrieving the values in the sublist or subdictionary requires an additional index or key'''\n",
    "student1['Courses'][-1]\n",
    "\n",
    "'''This example exhibits another feature of dictionaries: \n",
    "the values contained in the dictionary don’t need to be the same type. In person, some of the values are strings, \n",
    "one is an integer, one is a list,and can even have a dictionary also'''\n",
    "\n",
    "\n",
    "'''Just as the values in a dictionary don’t need to be of the same type, the keys don’t either'''\n",
    "foo = {42: 'aaa', 2.78: 'bbb', True: 'ccc'}\n",
    "foo[True]\n",
    "\n",
    "'''Here, one of the keys is an integer, one is a float, and one is a Boolean. \n",
    "It’s not obvious how this would be useful, but you never know'''\n",
    "\n",
    "'''You can use dictionaries for a wide range of purposes because there are so few \n",
    "limitations on the keys and values that are allowed.But there are some'''\n",
    "\n"
   ]
  },
  {
   "cell_type": "markdown",
   "metadata": {},
   "source": [
    "### Restrictions on Dictionary Keys"
   ]
  },
  {
   "cell_type": "code",
   "execution_count": null,
   "metadata": {},
   "outputs": [],
   "source": [
    "foo = {42: 'aaa', 2.78: 'bbb', True: 'ccc'}\n",
    "\n",
    "'''You can even use built-in objects like types and functions'''\n",
    "d = {int: 1, float: 2, bool: 3}\n",
    "print(d)\n",
    "\n",
    "d[float]\n",
    "\n",
    "d = {bin: 1, hex: 2, oct: 3}\n",
    "\n",
    "d[oct]\n",
    "\n",
    "'''*However, there are a couple restrictions that dictionary keys must abide by*'''\n",
    "\n",
    "'''First, a given key can appear in a dictionary only once. \n",
    "Duplicate keys are not allowed. A dictionary maps each key to a corresponding value, \n",
    "so it doesn’t make sense to map a particular key more than once'''\n",
    "\n",
    "'''You saw above that when you assign a value to an already existing dictionary key, \n",
    "it does not add the key a second time, but replaces the existing value:'''\n",
    "\n",
    "state_cap = {'Osun' : 'Osogbo',\n",
    "             'Kaduna': 'Kaduna',\n",
    "             'Kogi':'Lokoja',\n",
    "             'Lagos':'Ikeja\n",
    "             'Ekiti':'Ado'\n",
    "    \n",
    "}\n",
    "\n",
    "state_cap['Ekiti'] = 'Ado Ekiti'\n",
    "print(state_cap)\n",
    "\n",
    "'''Similarly, if you specify a key a second time during the initial creation of a dictionary, \n",
    "the second occurrence will override the first'''\n",
    "\n",
    "state_cap['Osun'] = 'Ibadan'\n",
    "\n",
    "\n",
    "'''Secondly, a dictionary key must be of a type that is immutable. \n",
    "You have already seen examples where several of the immutable types you are familiar with—integer, float, string,\n",
    "and Boolean—have served as dictionary keys'''\n",
    "\n",
    "'''A tuple can also be a dictionary key, because tuples are immutable'''\n",
    "d = {(1, 1): 'a', (1, 2): 'b', (2, 1): 'c', (2, 2): 'd'}\n",
    "\n",
    "d[(2,1)]\n",
    "\n",
    "'''Recall from the discussion on tuples that one rationale \n",
    "for using a tuple instead of a list is that there are circumstances \n",
    "where an immutable type is required. This is one of them'''\n",
    "\n",
    "'''However, neither a list nor another dictionary can serve as a dictionary key, \n",
    "because *lists and dictionaries are mutable*:'''\n",
    "\n",
    "d = {[1, 1]: 'a', [1, 2]: 'b', [2, 1]: 'c', [2, 2]: 'd'} #just run the program\n",
    "\n",
    "'''*Technical Note:* Why does the error message say “unhashable”?'''\n",
    "\n",
    "'''Technically, it is not quite correct to say an object must be immutable to be used as a dictionary key. \n",
    "More precisely, an object must be hashable, which means it can be passed to a hash function. \n",
    "A hash function takes data of arbitrary size and maps it to a relatively simpler fixed-size value \n",
    "called a hash value (or simply hash), \n",
    "which is used for table lookup and comparison.'''\n",
    "\n",
    "'''Python’s built-in *hash()* function returns the hash value for an object which is hashable, \n",
    "and raises an exception for an object which isn’t:'''\n",
    "\n",
    "hash('blogs')\n",
    "\n",
    "hash([1,2,3])\n",
    "hash({'a':1, 'b':2})\n",
    "\n",
    "'''All of the built-in immutable types you have learned about so far are hashable, \n",
    "and the mutable container types (lists and dictionaries) are not. So for present purposes, \n",
    "you can think of hashable and immutable as more or less synonymous.'''\n",
    "\n"
   ]
  },
  {
   "cell_type": "markdown",
   "metadata": {},
   "source": [
    "### Restrictions on Dictionary Values"
   ]
  },
  {
   "cell_type": "code",
   "execution_count": 10,
   "metadata": {},
   "outputs": [
    {
     "data": {
      "text/plain": [
       "True"
      ]
     },
     "execution_count": 10,
     "metadata": {},
     "output_type": "execute_result"
    }
   ],
   "source": [
    "'''By contrast, there are no restrictions on dictionary values. Literally \n",
    "none at all. A dictionary value can be any type of object Python supports, \n",
    "including mutable types like lists and dictionaries, and user-defined objects, \n",
    "which you will learn about in upcoming tutorials'''\n",
    "\n",
    "'''There is also no restriction against a particular value appearing in a dictionary multiple times'''\n",
    "\n",
    "d = {0: 'a', 1: 'a', 2: 'a', 3: 'a'}\n",
    "\n",
    "d[0] == d[1] == d[2]"
   ]
  },
  {
   "cell_type": "markdown",
   "metadata": {},
   "source": [
    "### Operators and Built-in Functions"
   ]
  },
  {
   "cell_type": "code",
   "execution_count": 15,
   "metadata": {},
   "outputs": [
    {
     "data": {
      "text/plain": [
       "5"
      ]
     },
     "execution_count": 15,
     "metadata": {},
     "output_type": "execute_result"
    }
   ],
   "source": [
    "'''You have already become familiar with many of the operators and built-in \n",
    "functions that can be used with strings, lists, and tuples. \n",
    "Some of these work with dictionaries as well.'''\n",
    "\n",
    "'''For example, the *in* and *not in* operators return True or False according to whether the specified operand \n",
    "occurs as a *key* in the dictionary'''\n",
    "\n",
    "state_cap = {'Osun' : 'Osogbo',\n",
    "             'Kaduna': 'Kaduna',\n",
    "             'Kogi':'Lokoja',\n",
    "             'Lagos': 'Ikeja',\n",
    "             'Ekiti':'Ado'\n",
    "    \n",
    "}\n",
    "\n",
    "'Osun' in state_cap\n",
    "'Nassarawa' not in state_cap\n",
    "'Kogi' not in state_cap\n",
    "\n",
    "\n",
    "'''The len() function returns the number of key-value pairs in a dictionary'''\n",
    "len(state_cap)"
   ]
  },
  {
   "cell_type": "markdown",
   "metadata": {},
   "source": [
    "### Built-in Dictionary Methods"
   ]
  },
  {
   "cell_type": "code",
   "execution_count": null,
   "metadata": {},
   "outputs": [],
   "source": [
    "'''As with strings and lists, there are several built-in methods that \n",
    "can be invoked on dictionaries. In fact, in some cases, \n",
    "the list and dictionary methods share the same name. \n",
    "(In the discussion on object-oriented programming, you will see that it is perfectly acceptable for \n",
    "different types to have methods with the same name.)'''\n",
    "\n",
    "d.clear() # empties dictionary d of all key-value pairs\n",
    "\n",
    "d = {'a': 10, 'b': 20, 'c': 30}\n",
    "d.clear()\n",
    "\n",
    "print(d)\n",
    "\n",
    "d.get(<key>[, <default>]) # Returns the value for a key if it exists in the dictionary\n",
    "\n",
    "'''The Python dictionary .get() method provides a convenient way of \n",
    "getting the value of a key from a dictionary without checking ahead of time whether the key exists, \n",
    "and without raising an error'''\n",
    "\n",
    "'''d.get(<key>) searches dictionary d for <key> and returns the associated value if it is found. \n",
    "If <key> is not found, it returns None'''\n",
    "\n",
    " d = {'a': 10, 'b': 20, 'c': 30}\n",
    "print(d.get('a'))\n",
    "\n",
    "print(d.get('y'))\n",
    "\n",
    "'''If <key> is not found and the optional <default> argument is specified, \n",
    "that value is returned instead of None'''\n",
    "\n",
    "print(d.get('y', 'there is no key of such'))\n",
    "\n",
    "'''d.items() --- d.items() returns a list of tuples containing the key-value pairs in d.\n",
    "The first item in each tuple is the key, \n",
    "and the second item is the key’s value'''\n",
    "\n",
    "d = {'a': 10, 'b': 20, 'c': 30}\n",
    "list(d.items())\n",
    "\n",
    "'''d.keys()--- returns a list of all keys in d'''\n",
    "list(d.keys())\n",
    "\n",
    "'''d.values()--- return a lsit of all the values in d'''\n",
    "list(d.values())\n"
   ]
  }
 ],
 "metadata": {
  "kernelspec": {
   "display_name": "Python 3",
   "language": "python",
   "name": "python3"
  },
  "language_info": {
   "codemirror_mode": {
    "name": "ipython",
    "version": 3
   },
   "file_extension": ".py",
   "mimetype": "text/x-python",
   "name": "python",
   "nbconvert_exporter": "python",
   "pygments_lexer": "ipython3",
   "version": "3.8.5"
  }
 },
 "nbformat": 4,
 "nbformat_minor": 4
}
