{
 "cells": [
  {
   "cell_type": "markdown",
   "metadata": {},
   "source": [
    "#### Links to the material used\n",
    "[link1](https://www.w3schools.com/python/python_classes.asp),   [link2](https://www.programiz.com/python-programming/class)\n",
    "\n",
    "[link3](https://realpython.com/python3-object-oriented-programming/),  [link4](https://www.geeksforgeeks.org/python-classes-and-objects/)"
   ]
  },
  {
   "cell_type": "markdown",
   "metadata": {},
   "source": [
    "## Object Oriented Programming(OOP)"
   ]
  },
  {
   "cell_type": "markdown",
   "metadata": {},
   "source": [
    "### What is object oriented programming in python?: \n",
    "OOP is a programming paradigm(ways of classifying programming languages based on their features) that provides a means of structuring programming so that properties and behaviours are bundled into individual object\n",
    "\n",
    "For instance, an object could represent a person with properties like a name, age, and address and behaviors such as walking, talking, breathing, and running. Or it could represent an email with properties like a recipient list, subject, and body and behaviors like adding attachments and sending.\n",
    "\n",
    "object-oriented programming is an approach for modeling concrete, real-world things, like cars, as well as relations between things, like companies and employees, students and teachers, and so on. OOP models real-world entities as software objects that have some data associated with them and can perform certain functions.\n",
    "\n",
    "Another programming paradigm which we are used to is the *procedural programming* which provides steps in form on blocks of codes and functions which run sequentially in order to complete a task.\n",
    "\n",
    "*The two terminologies we shall be using is class and object:*\n",
    "*Class* creates a user-defined data structure, which holds its own data members and member functions, which can be accessed and used by creating an instance of that class. A class is like a blueprint for an *object*\n",
    "\n",
    "you might be wondering why we need to define a class or create objects:\n",
    "take for instance:\n",
    "let’s say you wanted to track the number of dogs which may have different attributes like breed, age. If a list is used, the first element could be the dog’s breed while the second element could represent its age. Let’s suppose there are 100 different dogs, then how would you know which element is supposed to be which? What if you wanted to add other properties to these dogs? This lacks organization and it’s the exact need for classes.\n",
    "\n",
    "class simply models the real world object, just like a blueprint while an object is created using that class.\n",
    "As a matter of fact, every python data type is an object of a class with it's attribute and properties, all we have been doing all this while is just instantiatng a class,\n",
    "\n",
    "let us move on"
   ]
  },
  {
   "cell_type": "markdown",
   "metadata": {},
   "source": [
    "## Creating a class\n",
    "Let us take the example to further help us understand the need to create class better---\n",
    "we were instructed to track certain employees details and i need to store their age, name, year they started work etc.\n",
    "what i will do as someone whose is only used to procedural programming is probably create list for each users"
   ]
  },
  {
   "cell_type": "code",
   "execution_count": null,
   "metadata": {},
   "outputs": [],
   "source": [
    "# for example\n",
    "empl1 = ['john',22,2012]\n",
    "empl2 = ['janet',31,1980]\n",
    ".\n",
    ".\n",
    ".\n",
    "empl100 = ['philip',25,1999]\n",
    "\n",
    "# now you see that we are already running into problem while just creating about 100 employees, now imagine we want to create \n",
    "#about 1000 employees, our program gets messy and disorganized.\n",
    "# class help us write a well organized code.\n",
    "\n",
    "# that is just by the way, let us continue with creating a class"
   ]
  },
  {
   "cell_type": "code",
   "execution_count": null,
   "metadata": {},
   "outputs": [],
   "source": [
    "'''\n",
    "Class Definition Syntax:\n",
    "\n",
    "class ClassName:\n",
    "    # Statement-1\n",
    "    .\n",
    "    .\n",
    "    .\n",
    "    # Statement-N\n",
    "'''\n",
    "\n",
    "\n",
    "\n",
    "# let us create a simple class: to create a class we use the keyword class\n",
    "class MyClass:\n",
    "    '''This is a docstring. I have created a new class'''\n",
    "    pass\n",
    "\n",
    "'''A class creates a new local namespace where all its attributes are defined. Attributes may be data or functions.'''\n",
    "\n",
    "'''As soon as we define a class, a new class object is created with the same name.\n",
    "This class object allows us to access the different attributes as well\n",
    "as to instantiate new objects of that class.'''\n",
    "\n",
    "'''Now let us move on to defining some attributes with our class'''\n",
    "\n",
    "class MyClass:\n",
    "    '''this is a class called MyClass'''\n",
    "    \n",
    "    age = 30\n",
    "    name = 'Johnson'\n",
    "    \n",
    "    '''we just defind 2 attributes x and name'''\n",
    "    \n",
    "    def greet():\n",
    "        print(f'You are welcome to this new class')\n",
    "\n",
    "print(MyClass.age)\n",
    "print(MyClass.name)\n",
    "print(MyClass.greet)"
   ]
  },
  {
   "cell_type": "markdown",
   "metadata": {},
   "source": [
    "## Creating Object in python"
   ]
  },
  {
   "cell_type": "code",
   "execution_count": 6,
   "metadata": {},
   "outputs": [
    {
     "data": {
      "text/plain": [
       "7"
      ]
     },
     "execution_count": 6,
     "metadata": {},
     "output_type": "execute_result"
    }
   ],
   "source": [
    "'''We saw that the class object could be used to access different attributes\n",
    "\n",
    "It can also be used to create new object instances (*instantiation*) of that class. \n",
    "The procedure to create an object is similar to a function call.'''\n",
    "\n",
    "# now that we have created a simple class, let us create an object from it\n",
    "object1 = MyClass()\n",
    "\n",
    "'''This will create a new object instance named object1.\n",
    "We can access the attributes of objects using the object name prefix.'''\n",
    "\n",
    "'''Attributes may be data or method. Methods of an object are corresponding functions of that class\n",
    "\n",
    "This means to say, since MyClass.greet is a function object (attribute of class), MyClass.greet will be a method object.'''\n",
    "\n",
    "class MyClass:\n",
    "    '''this is a class called MyClass'''\n",
    "    \n",
    "    age = 30\n",
    "    name = 'Johnson'\n",
    "    \n",
    "    '''we just defind 2 attributes x and name'''\n",
    "    \n",
    "    def greet(self):\n",
    "        print(f'You are welcome to this new class')\n",
    "\n",
    "# This creates an object of class MyClass, note that object1 could be any variable name, it means an object has been created \n",
    "#in variable called object1, it's just same thing we do when creating defining a variable and assigning a value to it\n",
    "\n",
    "# instantiating an object(creating) of class MyClass\n",
    "object1 = MyClass()\n",
    "\n",
    "# let us compare these outputs\n",
    "object1. name\n",
    "MyClass.name\n",
    "\n",
    "# Now calling the object's greet() method\n",
    "object1.greet()\n",
    "\n",
    "\n",
    "# Complete Code\n",
    "class MyClass:\n",
    "    '''this is a class called MyClass'''\n",
    "    \n",
    "    age = 30\n",
    "    name = 'Johnson'\n",
    "    \n",
    "    '''we just defind 2 attributes x and name'''\n",
    "    \n",
    "    def greet(self):\n",
    "        print(f'You are welcome to this new class')\n",
    "\n",
    "object1 = MyClass()\n",
    "object1. name\n",
    "MyClass.name\n",
    "object1.greet()\n",
    "\n",
    "\n",
    "'''You may have noticed the *self* parameter in the greet function, but we called the function object1.greet() without\n",
    "any parameter and it still worked\n",
    "\n",
    "we shall talk more about this, but try and understand this simple explanation i want togive concerning that and if we still\n",
    "did not get, dont worry, you will fully understand\n",
    "\n",
    "The reason why this happened  is because, whenever an object calls its method(object1.greet()), \n",
    "the *object itself is passed as the first argument*. \n",
    "So, object1.greet() translates into MyClass.greet(object1)\n",
    "\n",
    "In general, calling a method with a list of n arguments is equivalent to calling the corresponding function with an\n",
    "argument list that is created by inserting the method's object before the first argument\n",
    "\n",
    "For these reasons, the first argument of the function in class must be the object itself. \n",
    "This is conventionally called *self*. It can be named otherwise but it is highly recommend to follow the convention'''"
   ]
  },
  {
   "cell_type": "markdown",
   "metadata": {},
   "source": [
    "*Some points on Python class:*\n",
    "\n",
    "Classes are created by keyword class. (just as we did above, class MyClass (we just successfully defined a class named MyClass))\n",
    "\n",
    "Attributes are the variables that belong to class.\n",
    "(the only attribute we have there is x which is 7)\n",
    "\n",
    "Attributes are always public and can be accessed using dot (.) operator. Eg.: Myclass.Myattribute\n",
    "(we accessed the attribute of our class when we created our object by doing object1.x)"
   ]
  },
  {
   "cell_type": "markdown",
   "metadata": {},
   "source": [
    "### Python constructors\n",
    "The examples above are classes and objects in their simplest form, and are not really useful in real life applications.\n",
    "Before we can start building or modelling real world objects in pyhton, we need to understand what *constructor* is all about"
   ]
  },
  {
   "cell_type": "code",
   "execution_count": 11,
   "metadata": {},
   "outputs": [
    {
     "name": "stdout",
     "output_type": "stream",
     "text": [
      "you are welcome Femi\n",
      "30\n",
      "14\n",
      "28\n"
     ]
    }
   ],
   "source": [
    "'''\n",
    "To understand the meaning of classes we have to understand the built-in __init__() function.\n",
    "\n",
    "All classes have a function called __init__(), which is always executed when the class is being initiated.\n",
    "\n",
    "Use the __init__() function to assign values to object properties, or other operations \n",
    "that are necessary to do when the object is being created:\n",
    "\n",
    "\n",
    "let us  Create a class named Person, using the __init__() function to assign values for name and age:'''\n",
    "\n",
    "class Person:\n",
    "    def __init__(self,age,name):\n",
    "        self.age = age\n",
    "        self.name = name\n",
    "        \n",
    "# Trying to instantiate an object from class Person\n",
    "object2 = Person(22,'peter')\n",
    "object2.age\n",
    "object2.name\n",
    "\n",
    "\n",
    "# Note: The __init__() function is called automatically every time the class is being used to create a new object\n",
    "\n",
    "#let us make the class Person  a little bit advanced by adding a method that greet the user\n",
    "\n",
    "class Person:\n",
    "    def __init__(self, age,name):\n",
    "        self.age = age\n",
    "        self.name = name\n",
    "    \n",
    "    def greet(self):\n",
    "        print(f'you are welcome {self.name}')\n",
    "        \n",
    "object2 = Person(33, 'Femi')\n",
    "object2.age\n",
    "object2.greet()\n",
    "\n",
    "'''In this example, we created a class that tries to model a person, it has two method, the __init__ method that \n",
    "initialize the variables (defaults to zero) and greet() to display a greeting message.\n",
    "\n",
    "infact the __init__ method houses all the properties that a class must have, so we see that we can not create a class without\n",
    "defining that __init__ method\n",
    "\n",
    "Every time a new Person  object is created, .__init__() sets the initial state of the \n",
    "object by assigning the values of the object’s properties. \n",
    "That is, .__init__() initializes each new instance of the class (it's the one responsibe for creating the object for a class)\n",
    "it takes all the responsibilities\n",
    "\n",
    "You can give .__init__() any number of parameters, but the *first parameter will always be a variable called self*.\n",
    "\n",
    "When a new class instance is created, the instance is automatically passed to the self parameter in \n",
    ".__init__() so that new attributes can be defined on the object (x100)'''\n",
    "\n",
    "# Let us take another example class that calculates the area of a cirle\n",
    "# we all know area of a circle's formula is pi*r^2\n",
    "import math\n",
    "class Area:\n",
    "    def __init__(self,radius):\n",
    "        self.radius = radius\n",
    "        \n",
    "    def calc_area(self):\n",
    "        return(math.pi*(self.radius**2))\n",
    "\n",
    "object3 = Area(20)\n",
    "object3.calc_area()\n",
    "\n",
    "'''Also note that we can modify the properties of an object\n",
    "\n",
    "let us create 2 objecs from class Area, then try to modify the radius '''\n",
    "\n",
    "obj1 = Area(22)\n",
    "obj2 = Area(14)\n",
    "\n",
    "obj1.radius = 30\n",
    "print(obj1.radius)\n",
    "\n",
    "print(obj2.radius)\n",
    "obj2.radius = 28\n",
    "\n",
    "print(obj2.radius)"
   ]
  },
  {
   "cell_type": "markdown",
   "metadata": {},
   "source": [
    "### Let us talk about self a little more"
   ]
  },
  {
   "cell_type": "code",
   "execution_count": null,
   "metadata": {},
   "outputs": [],
   "source": [
    "'''The self parameter is a reference to the current instance of the class, and is used to access variables that \n",
    "belongs to the class.\n",
    "\n",
    "It does not have to be named self , you can call it whatever you like, \n",
    "but it has to be the first parameter of any function in the class:\n",
    "We do not give a value for this parameter when we call the method, Python provides it.\n",
    "\n",
    "even If we have a method which takes no arguments, then we still have to have one argument'''"
   ]
  },
  {
   "cell_type": "markdown",
   "metadata": {},
   "source": [
    "### Dice Rolling Simulator Project"
   ]
  },
  {
   "cell_type": "code",
   "execution_count": null,
   "metadata": {},
   "outputs": [],
   "source": [
    "'''A class to simulate a dice emulator'''\n",
    "\n",
    "from random import randint\n",
    "import time as t\n",
    "\n",
    "class DiceEmulator:\n",
    "    # Initializing the attributes of the instances\n",
    "    def __init__(self, player1, player2):\n",
    "        self.player1 = player1\n",
    "        self.player2 = player2\n",
    "        self.score1 = 0\n",
    "        self.score2 = 0\n",
    "        self.score_sheet = {}\n",
    "    \n",
    "    def roll_die(self):\n",
    "        '''this method rolls the two dice'''\n",
    "        dice1 = randint(1, 6)\n",
    "        dice2 = randint(1, 6)\n",
    "        return (dice1,dice2)\n",
    "    \n",
    "    def score_board(self):\n",
    "        '''This method determines the winner based on their scores'''\n",
    "        score_sheet = self.score_sheet\n",
    "        score_sheet = sorted(score_sheet.items(), key = lambda x : x[1])\n",
    "        winner_name = score_sheet[-1][0]\n",
    "        winner_score = score_sheet[-1][-1]\n",
    "        if self.score1 == self.score2:\n",
    "            print('You DRAW!')\n",
    "            print('Refresh to play again')\n",
    "        else:\n",
    "            print('\\nAnd the winner is...')\n",
    "            t.sleep(2)\n",
    "            print(f'{winner_name} with {winner_score} points! \\n\\nCongratulations {winner_name}')\n",
    "   \n",
    "    def players(self):\n",
    "        start = 0\n",
    "        stop = 4\n",
    "        while start < stop:\n",
    "            rolled1 = self.roll_die()\n",
    "            rolled2 = self.roll_die()\n",
    "            play1 = rolled1\n",
    "            self.score1 += sum(play1)\n",
    "            play2 = rolled2\n",
    "            self.score2 += sum(play2)\n",
    "            \n",
    "            print(f'\\n{self.player1} rolled {play1}\\n{self.player2} rolled {play2}')\n",
    "            if play1 == (1,1) or play2 == (1,1):\n",
    "                break\n",
    "            start += 1\n",
    "            print('\\nDo you want to roll again? y or n?')\n",
    "            again = input('> ').lower()\n",
    "            if again == 'n':\n",
    "                break\n",
    "            elif again == 'y':\n",
    "                continue\n",
    "        self.score_sheet.update({self.player1:self.score1, self.player2:self.score2})\n",
    "        print(f'\\n{self.player1} scored {self.score1} points while {self.player2} scored {self.score2} points')\n",
    "        self.score_board()\n",
    "        \n",
    "player1 = input('Enter a name for player1: ')\n",
    "player2 = input('Enter a name for player2: ')\n",
    "\n",
    "a = DiceEmulator(player1, player2)\n",
    "a.players()\n"
   ]
  },
  {
   "cell_type": "code",
   "execution_count": 22,
   "metadata": {},
   "outputs": [
    {
     "name": "stdout",
     "output_type": "stream",
     "text": [
      "player1 rolls (4, 6) and player2 rolls (5, 1)\n"
     ]
    }
   ],
   "source": [
    "import random\n",
    "dice1 = random.randrange(1, 7)\n",
    "dice2 = random.randrange(1, 7)\n",
    "\n",
    "dice3 = random.randrange(1, 7)\n",
    "dice4 = random.randrange(1, 7)\n",
    "\n",
    "player1 = dice1,dice2\n",
    "player2 = dice3,dice4\n",
    "\n",
    "print(f'player1 rolls {player1} and player2 rolls {player2}')"
   ]
  },
  {
   "cell_type": "code",
   "execution_count": 30,
   "metadata": {},
   "outputs": [
    {
     "name": "stdout",
     "output_type": "stream",
     "text": [
      "player1 rolls (6, 3) and player2 rolls (6, 5)\n"
     ]
    }
   ],
   "source": [
    "def roll_dice():\n",
    "    dice1 = random.randrange(1, 7)\n",
    "    dice2 = random.randrange(1, 7)\n",
    "    return (dice1,dice2)\n",
    "\n",
    "player1 = roll_dice()\n",
    "player2 = roll_dice()\n",
    "\n",
    "print(f'player1 rolls {player1} and player2 rolls {player2}')\n",
    "    "
   ]
  },
  {
   "cell_type": "code",
   "execution_count": 85,
   "metadata": {},
   "outputs": [
    {
     "name": "stdout",
     "output_type": "stream",
     "text": [
      "player 1 rolls (4, 1) and player2 rolls (2, 4)\n",
      "player 1 rolls (2, 5) and player2 rolls (6, 1)\n",
      "player 1 rolls (1, 3) and player2 rolls (3, 2)\n",
      "player 1 rolls (4, 6) and player2 rolls (1, 5)\n"
     ]
    }
   ],
   "source": [
    "import random\n",
    "def dice() :\n",
    "    dice1 = random.randrange(1, 7)\n",
    "    dice2 = random.randrange(1, 7)\n",
    "    return (dice1, dice2)\n",
    "\n",
    "\n",
    "\n",
    "for i in range(4):\n",
    "    play1 = dice()\n",
    "    play2 = dice()\n",
    "    print(f\"player 1 rolls {play1} and player2 rolls {play2}\")\n",
    "    if play1 == (1,1) or play2 == (1,1):\n",
    "        break"
   ]
  }
 ],
 "metadata": {
  "kernelspec": {
   "display_name": "Python 3",
   "language": "python",
   "name": "python3"
  },
  "language_info": {
   "codemirror_mode": {
    "name": "ipython",
    "version": 3
   },
   "file_extension": ".py",
   "mimetype": "text/x-python",
   "name": "python",
   "nbconvert_exporter": "python",
   "pygments_lexer": "ipython3",
   "version": "3.8.5"
  }
 },
 "nbformat": 4,
 "nbformat_minor": 4
}
