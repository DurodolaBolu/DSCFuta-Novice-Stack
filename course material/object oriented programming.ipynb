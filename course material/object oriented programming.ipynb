{
 "cells": [
  {
   "cell_type": "markdown",
   "metadata": {},
   "source": [
    "#### Links to the material used\n",
    "[link1](https://www.w3schools.com/python/python_classes.asp),   [link2](https://www.programiz.com/python-programming/class)\n",
    "\n",
    "[link3](https://realpython.com/python3-object-oriented-programming/),  [link4](https://www.geeksforgeeks.org/python-classes-and-objects/)"
   ]
  },
  {
   "cell_type": "markdown",
   "metadata": {},
   "source": [
    "## Object Oriented Programming(OOP)"
   ]
  },
  {
   "cell_type": "markdown",
   "metadata": {},
   "source": [
    "### What is object oriented programming in python?: \n",
    "OOP is a programming paradigm(ways of classifying programming languages based on their features) that provides a means of structuring programming so that properties and behaviours are bundled into individual object\n",
    "\n",
    "For instance, an object could represent a person with properties like a name, age, and address and behaviors such as walking, talking, breathing, and running. Or it could represent an email with properties like a recipient list, subject, and body and behaviors like adding attachments and sending.\n",
    "\n",
    "object-oriented programming is an approach for modeling concrete, real-world things, like cars, as well as relations between things, like companies and employees, students and teachers, and so on. OOP models real-world entities as software objects that have some data associated with them and can perform certain functions.\n",
    "\n",
    "Another programming paradigm which we are used to is the *procedural programming* which provides steps in form on blocks of codes and functions which run sequentially in order to complete a task.\n",
    "\n",
    "*The two terminologies we shall be using is class and object:*\n",
    "*Class* creates a user-defined data structure, which holds its own data members and member functions, which can be accessed and used by creating an instance of that class. A class is like a blueprint for an *object*\n",
    "\n",
    "you might be wondering why we need to define a class or create objects:\n",
    "take for instance:\n",
    "let’s say you wanted to track the number of dogs which may have different attributes like breed, age. If a list is used, the first element could be the dog’s breed while the second element could represent its age. Let’s suppose there are 100 different dogs, then how would you know which element is supposed to be which? What if you wanted to add other properties to these dogs? This lacks organization and it’s the exact need for classes.\n",
    "\n",
    "class simply models the real world object, just like a blueprint while an object is created using that class.\n",
    "As a matter of fact, every python data type is an object of a class with it's attribute and properties, all we have been doing all this while is just instantiatng a class,\n",
    "\n",
    "let us move on"
   ]
  },
  {
   "cell_type": "markdown",
   "metadata": {},
   "source": [
    "## Creating a class\n",
    "Let us take the example to further help us understand the need to create class better---\n",
    "we were instructed to track certain employees details and i need to store their age, name, year they started work etc.\n",
    "what i will do as someone whose is only used to procedural programming is probably create list for each users"
   ]
  },
  {
   "cell_type": "code",
   "execution_count": null,
   "metadata": {},
   "outputs": [],
   "source": [
    "# for example\n",
    "empl1 = ['john',22,2012]\n",
    "empl2 = ['janet',31,1980]\n",
    ".\n",
    ".\n",
    ".\n",
    "empl100 = ['philip',25,1999]\n",
    "\n",
    "# now you see that we are already running into problem while just creating about 100 employees, now imagine we want to create \n",
    "#about 1000 employees, our program gets messy and disorganized.\n",
    "# class help us write a well organized code.\n",
    "\n",
    "# that is just by the way, let us continue with creating a class"
   ]
  },
  {
   "cell_type": "code",
   "execution_count": null,
   "metadata": {},
   "outputs": [],
   "source": [
    "'''\n",
    "Class Definition Syntax:\n",
    "\n",
    "class ClassName:\n",
    "    # Statement-1\n",
    "    .\n",
    "    .\n",
    "    .\n",
    "    # Statement-N\n",
    "'''\n",
    "\n",
    "\n",
    "\n",
    "# let us create a simple class: to create a class we use the keyword class\n",
    "class MyClass:\n",
    "    '''This is a docstring. I have created a new class'''\n",
    "    pass\n",
    "\n",
    "'''A class creates a new local namespace where all its attributes are defined. Attributes may be data or functions.'''\n",
    "\n",
    "'''As soon as we define a class, a new class object is created with the same name.\n",
    "This class object allows us to access the different attributes as well\n",
    "as to instantiate new objects of that class.'''\n",
    "\n",
    "'''Now let us move on to defining some attributes with our class'''\n",
    "\n",
    "class MyClass:\n",
    "    '''this is a class called MyClass'''\n",
    "    \n",
    "    age = 30\n",
    "    name = 'Johnson'\n",
    "    \n",
    "    '''we just defind 2 attributes x and name'''\n",
    "    \n",
    "    def greet():\n",
    "        print(f'You are welcome to this new class')\n",
    "\n",
    "print(MyClass.age)\n",
    "print(MyClass.name)\n",
    "print(MyClass.greet)"
   ]
  },
  {
   "cell_type": "markdown",
   "metadata": {},
   "source": [
    "## Creating Object in python"
   ]
  },
  {
   "cell_type": "code",
   "execution_count": 6,
   "metadata": {},
   "outputs": [
    {
     "data": {
      "text/plain": [
       "7"
      ]
     },
     "execution_count": 6,
     "metadata": {},
     "output_type": "execute_result"
    }
   ],
   "source": [
    "'''We saw that the class object could be used to access different attributes\n",
    "\n",
    "It can also be used to create new object instances (*instantiation*) of that class. \n",
    "The procedure to create an object is similar to a function call.'''\n",
    "\n",
    "# now that we have created a simple class, let us create an object from it\n",
    "object1 = MyClass()\n",
    "\n",
    "'''This will create a new object instance named object1.\n",
    "We can access the attributes of objects using the object name prefix.'''\n",
    "\n",
    "'''Attributes may be data or method. Methods of an object are corresponding functions of that class\n",
    "\n",
    "This means to say, since MyClass.greet is a function object (attribute of class), MyClass.greet will be a method object.'''\n",
    "\n",
    "class MyClass:\n",
    "    '''this is a class called MyClass'''\n",
    "    \n",
    "    age = 30\n",
    "    name = 'Johnson'\n",
    "    \n",
    "    '''we just defind 2 attributes x and name'''\n",
    "    \n",
    "    def greet(self):\n",
    "        print(f'You are welcome to this new class')\n",
    "\n",
    "# This creates an object of class MyClass, note that object1 could be any variable name, it means an object has been created \n",
    "#in variable called object1, it's just same thing we do when creating defining a variable and assigning a value to it\n",
    "\n",
    "# instantiating an object(creating) of class MyClass\n",
    "object1 = MyClass()\n",
    "\n",
    "# let us compare these outputs\n",
    "object1. name\n",
    "MyClass.name\n",
    "\n",
    "# Now calling the object's greet() method\n",
    "object1.greet()\n",
    "\n",
    "'''You may have noticed the *self* parameter in the greet function, but we called the function object1.greet() without\n",
    "any parameter and it still worked\n",
    "\n",
    "we shall talk more about this, but try and understand this simple explanation i want togive concerning that and if we still\n",
    "did not get, dont worry, you will fully understand\n",
    "\n",
    "The reason why this happened  is because, whenever an object calls its method(object1.greet()), \n",
    "the *object itself is passed as the first argument*. \n",
    "So, object1.greet() translates into MyClass.greet(object1)\n",
    "\n",
    "In general, calling a method with a list of n arguments is equivalent to calling the corresponding function with an\n",
    "argument list that is created by inserting the method's object before the first argument\n",
    "\n",
    "For these reasons, the first argument of the function in class must be the object itself. \n",
    "This is conventionally called *self*. It can be named otherwise but it is highly recommend to follow the convention'''"
   ]
  },
  {
   "cell_type": "markdown",
   "metadata": {},
   "source": [
    "*Some points on Python class:*\n",
    "\n",
    "Classes are created by keyword class. (just as we did above, class MyClass (we just successfully defined a class named MyClass))\n",
    "\n",
    "Attributes are the variables that belong to class.\n",
    "(the only attribute we have there is x which is 7)\n",
    "\n",
    "Attributes are always public and can be accessed using dot (.) operator. Eg.: Myclass.Myattribute\n",
    "(we accessed the attribute of our class when we created our object by doing object1.x)"
   ]
  },
  {
   "cell_type": "markdown",
   "metadata": {},
   "source": [
    "### Python constructors\n",
    "The examples above are classes and objects in their simplest form, and are not really useful in real life applications.\n",
    "Before we can start building or modelling real world objects in pyhton, we need to understand what *constructor* is all about"
   ]
  },
  {
   "cell_type": "code",
   "execution_count": null,
   "metadata": {},
   "outputs": [],
   "source": [
    "'''\n",
    "\n",
    "'''"
   ]
  }
 ],
 "metadata": {
  "kernelspec": {
   "display_name": "Python 3",
   "language": "python",
   "name": "python3"
  },
  "language_info": {
   "codemirror_mode": {
    "name": "ipython",
    "version": 3
   },
   "file_extension": ".py",
   "mimetype": "text/x-python",
   "name": "python",
   "nbconvert_exporter": "python",
   "pygments_lexer": "ipython3",
   "version": "3.8.5"
  }
 },
 "nbformat": 4,
 "nbformat_minor": 4
}
