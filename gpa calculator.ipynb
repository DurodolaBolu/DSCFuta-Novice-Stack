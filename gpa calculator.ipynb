{
 "cells": [
  {
   "cell_type": "code",
   "execution_count": 1,
   "metadata": {},
   "outputs": [
    {
     "name": "stdout",
     "output_type": "stream",
     "text": [
      "please, enter the number of courses you are offering below\n",
      ">> 3\n",
      "enter your SCORES and UNITS for each course below\n",
      "your score:55\n",
      "How many UNIT is the course you entered above: 2\n",
      "enter your SCORES and UNITS for each course below\n",
      "your score:65\n",
      "How many UNIT is the course you entered above: 1\n",
      "enter your SCORES and UNITS for each course below\n",
      "your score:78\n",
      "How many UNIT is the course you entered above: 2\n",
      " your current GPA is 4.0/5.0\n"
     ]
    }
   ],
   "source": [
    "def calc_gpa():\n",
    "    units=[4,3,2,1]\n",
    "    print('please, enter the number of courses you are offering below')\n",
    "    number_of_courses=int(input('>> '))\n",
    "    count=0\n",
    "    total_unit=0\n",
    "    total_quality_point = 0\n",
    "    while count < number_of_courses:\n",
    "        print('enter your SCORES and UNITS for each course below')\n",
    "        score=int(input('your score:'))\n",
    "        unit=int(input('How many UNIT is the course you entered above: '))\n",
    "        if score >= 70 and score <= 100 and unit in units:\n",
    "            point = 5\n",
    "            total_quality_point += point * unit\n",
    "            total_unit += unit\n",
    "        elif score >= 60 and score <= 69 and unit in units:\n",
    "            point = 4\n",
    "            total_quality_point += point * unit\n",
    "            total_unit += unit\n",
    "        elif score >= 50 and score <= 59 and unit in units:\n",
    "            point = 3\n",
    "            total_quality_point += point * unit\n",
    "            total_unit += unit\n",
    "        elif score >= 49 and score <= 45 and unit in units:\n",
    "            point = 2\n",
    "            total_quality_point += point * unit\n",
    "            total_unit += unit\n",
    "        elif score <= 44 and unit in units:\n",
    "            point = 1\n",
    "            total_quality_point += point * unit\n",
    "            total_unit += unit\n",
    "        count += 1\n",
    "    gpa= total_quality_point/ total_unit\n",
    "    rounded_gpa = round(gpa,2)\n",
    "    return (f' your current GPA is {rounded_gpa}/5.0')\n",
    "\n",
    "\n",
    "stud_gpa=calc_gpa()\n",
    "print(stud_gpa)\n",
    "            \n",
    "            \n"
   ]
  },
  {
   "cell_type": "code",
   "execution_count": 3,
   "metadata": {},
   "outputs": [],
   "source": [
    "class GpaCalculator:\n",
    "    def __init__(self):\n",
    "        self.units = [4,3,2,1]\n",
    "    def details(self):\n",
    "        "
   ]
  },
  {
   "cell_type": "code",
   "execution_count": 5,
   "metadata": {},
   "outputs": [
    {
     "ename": "ModuleNotFoundError",
     "evalue": "No module named 'tabulate'",
     "output_type": "error",
     "traceback": [
      "\u001b[1;31m---------------------------------------------------------------------------\u001b[0m",
      "\u001b[1;31mModuleNotFoundError\u001b[0m                       Traceback (most recent call last)",
      "\u001b[1;32m<ipython-input-5-5df088049afd>\u001b[0m in \u001b[0;36m<module>\u001b[1;34m\u001b[0m\n\u001b[1;32m----> 1\u001b[1;33m \u001b[1;32mfrom\u001b[0m \u001b[0mtabulate\u001b[0m \u001b[1;32mimport\u001b[0m \u001b[0mtabulate\u001b[0m\u001b[1;33m\u001b[0m\u001b[1;33m\u001b[0m\u001b[0m\n\u001b[0m",
      "\u001b[1;31mModuleNotFoundError\u001b[0m: No module named 'tabulate'"
     ]
    }
   ],
   "source": [
    "print(f'a')"
   ]
  },
  {
   "cell_type": "code",
   "execution_count": 1,
   "metadata": {},
   "outputs": [
    {
     "name": "stdout",
     "output_type": "stream",
     "text": [
      "Enter a string:fr\n"
     ]
    },
    {
     "ename": "ValueError",
     "evalue": "invalid literal for int() with base 10: 'f'",
     "output_type": "error",
     "traceback": [
      "\u001b[1;31m---------------------------------------------------------------------------\u001b[0m",
      "\u001b[1;31mValueError\u001b[0m                                Traceback (most recent call last)",
      "\u001b[1;32m<ipython-input-1-ba7f4e3a551b>\u001b[0m in \u001b[0;36m<module>\u001b[1;34m\u001b[0m\n\u001b[0;32m      2\u001b[0m \u001b[1;32mfor\u001b[0m \u001b[0mn\u001b[0m \u001b[1;32min\u001b[0m \u001b[0mset\u001b[0m\u001b[1;33m(\u001b[0m\u001b[0mnum\u001b[0m\u001b[1;33m)\u001b[0m\u001b[1;33m:\u001b[0m\u001b[1;33m\u001b[0m\u001b[1;33m\u001b[0m\u001b[0m\n\u001b[0;32m      3\u001b[0m         \u001b[0mc\u001b[0m\u001b[1;33m=\u001b[0m\u001b[0mnum\u001b[0m\u001b[1;33m.\u001b[0m\u001b[0mcount\u001b[0m\u001b[1;33m(\u001b[0m\u001b[0mn\u001b[0m\u001b[1;33m)\u001b[0m\u001b[1;33m\u001b[0m\u001b[1;33m\u001b[0m\u001b[0m\n\u001b[1;32m----> 4\u001b[1;33m         \u001b[0mcompressed\u001b[0m\u001b[1;33m=\u001b[0m\u001b[1;33m(\u001b[0m\u001b[0mint\u001b[0m\u001b[1;33m(\u001b[0m\u001b[0mn\u001b[0m\u001b[1;33m)\u001b[0m\u001b[1;33m,\u001b[0m\u001b[0mc\u001b[0m\u001b[1;33m)\u001b[0m\u001b[1;33m\u001b[0m\u001b[1;33m\u001b[0m\u001b[0m\n\u001b[0m\u001b[0;32m      5\u001b[0m         \u001b[0mcompressed\u001b[0m\u001b[1;33m=\u001b[0m\u001b[0mtuple\u001b[0m\u001b[1;33m(\u001b[0m\u001b[0mcompressed\u001b[0m\u001b[1;33m)\u001b[0m\u001b[1;33m\u001b[0m\u001b[1;33m\u001b[0m\u001b[0m\n\u001b[0;32m      6\u001b[0m         \u001b[0mprint\u001b[0m\u001b[1;33m(\u001b[0m\u001b[0mcompressed\u001b[0m\u001b[1;33m,\u001b[0m\u001b[0mend\u001b[0m\u001b[1;33m=\u001b[0m\u001b[1;34m\"\"\u001b[0m\u001b[1;33m)\u001b[0m\u001b[1;33m\u001b[0m\u001b[1;33m\u001b[0m\u001b[0m\n",
      "\u001b[1;31mValueError\u001b[0m: invalid literal for int() with base 10: 'f'"
     ]
    }
   ],
   "source": [
    "num=input(\"Enter a string:\")\n",
    "for n in set(num):\n",
    "\tc=num.count(n)\n",
    "\tcompressed=(int(n),c)\n",
    "\tcompressed=tuple(compressed)\n",
    "\tprint(compressed,end=\"\")"
   ]
  }
 ],
 "metadata": {
  "kernelspec": {
   "display_name": "Python 3",
   "language": "python",
   "name": "python3"
  },
  "language_info": {
   "codemirror_mode": {
    "name": "ipython",
    "version": 3
   },
   "file_extension": ".py",
   "mimetype": "text/x-python",
   "name": "python",
   "nbconvert_exporter": "python",
   "pygments_lexer": "ipython3",
   "version": "3.8.5"
  }
 },
 "nbformat": 4,
 "nbformat_minor": 4
}
